{
 "cells": [
  {
   "cell_type": "code",
   "execution_count": 1,
   "id": "4c095bfc",
   "metadata": {},
   "outputs": [],
   "source": [
    "import pandas as pd\n",
    "import numpy as np\n",
    "import matplotlib.pyplot as plt\n",
    "import seaborn as sns\n",
    "%matplotlib inline\n",
    "\n",
    "from matplotlib import rc\n",
    "rc('font', family='AppleGothic')\n",
    "plt.rcParams['axes.unicode_minus'] = False\n",
    "from matplotlib import rcParams\n",
    "\n",
    "import warnings\n",
    "warnings.simplefilter(\"ignore\")"
   ]
  },
  {
   "cell_type": "code",
   "execution_count": 2,
   "id": "1c4dcefd",
   "metadata": {},
   "outputs": [
    {
     "data": {
      "text/html": [
       "<div>\n",
       "<style scoped>\n",
       "    .dataframe tbody tr th:only-of-type {\n",
       "        vertical-align: middle;\n",
       "    }\n",
       "\n",
       "    .dataframe tbody tr th {\n",
       "        vertical-align: top;\n",
       "    }\n",
       "\n",
       "    .dataframe thead th {\n",
       "        text-align: right;\n",
       "    }\n",
       "</style>\n",
       "<table border=\"1\" class=\"dataframe\">\n",
       "  <thead>\n",
       "    <tr style=\"text-align: right;\">\n",
       "      <th></th>\n",
       "      <th>뉴스 식별자</th>\n",
       "      <th>일자</th>\n",
       "      <th>언론사</th>\n",
       "      <th>기고자</th>\n",
       "      <th>제목</th>\n",
       "      <th>통합 분류1</th>\n",
       "      <th>통합 분류2</th>\n",
       "      <th>통합 분류3</th>\n",
       "      <th>사건/사고 분류1</th>\n",
       "      <th>사건/사고 분류2</th>\n",
       "      <th>사건/사고 분류3</th>\n",
       "      <th>인물</th>\n",
       "      <th>위치</th>\n",
       "      <th>기관</th>\n",
       "      <th>키워드</th>\n",
       "      <th>특성추출(가중치순 상위 50개)</th>\n",
       "      <th>본문</th>\n",
       "      <th>URL</th>\n",
       "      <th>분석제외 여부</th>\n",
       "    </tr>\n",
       "  </thead>\n",
       "  <tbody>\n",
       "    <tr>\n",
       "      <th>0</th>\n",
       "      <td>1.601001e+06</td>\n",
       "      <td>20221031</td>\n",
       "      <td>전북도민일보</td>\n",
       "      <td>남형진 기자</td>\n",
       "      <td>한국탄소산업진흥원, 탄소소부장 기업 기술 애로 지원 박차</td>\n",
       "      <td>IT_과학&gt;과학</td>\n",
       "      <td>지역&gt;대전</td>\n",
       "      <td>지역&gt;충남</td>\n",
       "      <td>NaN</td>\n",
       "      <td>NaN</td>\n",
       "      <td>NaN</td>\n",
       "      <td>방윤혁</td>\n",
       "      <td>신성,한국탄소산업진흥원,진흥원</td>\n",
       "      <td>소부장 융합혁신지원단,소부장혁신지원,대성중공업,우주항공,카텍에이치,진흥원</td>\n",
       "      <td>한국탄소산업진흥원,탄소소부장,기업,애로,지원,박차,한국탄소산업진흥원,원장,방윤혁,소...</td>\n",
       "      <td>진흥원,전문가,탄소소부장,소부장,한국탄소산업진흥원,자동차,수거장치,기술애,소부장혁신...</td>\n",
       "      <td>한국탄소산업진흥원(원장 방윤혁)이 국내 탄소 소재ㆍ부품ㆍ장비 기업의 현장 기술애로 ...</td>\n",
       "      <td>http://www.domin.co.kr/news/articleView.html?i...</td>\n",
       "      <td>NaN</td>\n",
       "    </tr>\n",
       "    <tr>\n",
       "      <th>1</th>\n",
       "      <td>7.100501e+06</td>\n",
       "      <td>20221031</td>\n",
       "      <td>전자신문</td>\n",
       "      <td>정다은</td>\n",
       "      <td>[ET단상]자원순환, 포장재 '탈(脫) 플라스틱'에 달렸다</td>\n",
       "      <td>사회&gt;환경</td>\n",
       "      <td>경제&gt;유통</td>\n",
       "      <td>경제&gt;자원</td>\n",
       "      <td>NaN</td>\n",
       "      <td>NaN</td>\n",
       "      <td>NaN</td>\n",
       "      <td>김지선</td>\n",
       "      <td>한국,설령</td>\n",
       "      <td>환경부,FSC(산림관리협의회,자원,플라스틱,산업통상자원부,PCR</td>\n",
       "      <td>자원순환,포장재,플라스틱,플라스틱,인류,발명,최고,선물,최악,산물,유용성,편리,장점...</td>\n",
       "      <td>친환경,생활공작소,생활용품업계,재활용,포장재,배출량,폐기물,코로나19,순환경제,탄소...</td>\n",
       "      <td>플라스틱은 인류가 발명한 '최고의 선물이자 최악의 산물'이다. 가볍고 견고하다는 유...</td>\n",
       "      <td>http://www.etnews.com/20221031000039</td>\n",
       "      <td>NaN</td>\n",
       "    </tr>\n",
       "    <tr>\n",
       "      <th>2</th>\n",
       "      <td>2.100311e+06</td>\n",
       "      <td>20221031</td>\n",
       "      <td>서울경제</td>\n",
       "      <td>유주희 기자,팀지구용 기자</td>\n",
       "      <td>해변의 불꽃놀이, '불법'입니다[지구용]</td>\n",
       "      <td>미분류</td>\n",
       "      <td>NaN</td>\n",
       "      <td>NaN</td>\n",
       "      <td>사회&gt;사회갈등&gt;시위</td>\n",
       "      <td>NaN</td>\n",
       "      <td>NaN</td>\n",
       "      <td>NaN</td>\n",
       "      <td>지구,인천,저도,인천시,을왕리</td>\n",
       "      <td>시셰퍼드,CU,이마트24,의원실,해양수산부,세븐일레븐,GS25,국민의힘</td>\n",
       "      <td>해변,불꽃놀이,불법,지구용,해수욕장법,폭죽,판매,합법,단속,인력,어둠,해변,파도,소...</td>\n",
       "      <td>폭죽놀이,시셰퍼드,활동가,바닷가,불꽃놀이,지구용,활동가님,편의점,정철,폭죽놀,현수막...</td>\n",
       "      <td>어둠이 내려앉은 해변의 파도 소리, 손에는 맥주 한 캔, 속마음을 실어나르는 대화,...</td>\n",
       "      <td>http://www.sedaily.com/NewsView/26CKC2064U</td>\n",
       "      <td>NaN</td>\n",
       "    </tr>\n",
       "    <tr>\n",
       "      <th>3</th>\n",
       "      <td>2.100801e+06</td>\n",
       "      <td>20221028</td>\n",
       "      <td>아시아경제</td>\n",
       "      <td>영남취재본부 황두열</td>\n",
       "      <td>부경대, 중학교 찾아 ‘청소년 해역인문학 강연’ 개최</td>\n",
       "      <td>지역&gt;부산</td>\n",
       "      <td>지역&gt;대전</td>\n",
       "      <td>IT_과학&gt;IT_과학일반</td>\n",
       "      <td>NaN</td>\n",
       "      <td>NaN</td>\n",
       "      <td>NaN</td>\n",
       "      <td>권영주,김학준,김찬희,문혜진,강호영</td>\n",
       "      <td>인문한국플러스,해역,해산,부산,해운대,영남</td>\n",
       "      <td>진로,KIOST,HK,HK+)사업단,정책연구원,HK+사업단,국립부경대학교,부흥중,부...</td>\n",
       "      <td>부경대,중학교,강연,청소년,해역,인문학,개최,국립,부경대학교,인문,한국플러스,HK,...</td>\n",
       "      <td>부경대,인문학,해양과학,부산,권영주,학생들,문혜진,hk,부산대,강호영,부흥중학교,김...</td>\n",
       "      <td>[아시아경제 영남취재본부 황두열 기자] 국립부경대학교 인문한국플러스(HK+)사업단이...</td>\n",
       "      <td>https://view.asiae.co.kr/article/2022102817342...</td>\n",
       "      <td>NaN</td>\n",
       "    </tr>\n",
       "    <tr>\n",
       "      <th>4</th>\n",
       "      <td>1.500701e+06</td>\n",
       "      <td>20221028</td>\n",
       "      <td>부산일보</td>\n",
       "      <td>김예빈</td>\n",
       "      <td>부경대, 중학교 찾아 ‘청소년 해역인문학 강연’ 개최</td>\n",
       "      <td>지역&gt;부산</td>\n",
       "      <td>IT_과학&gt;IT_과학일반</td>\n",
       "      <td>지역&gt;대전</td>\n",
       "      <td>NaN</td>\n",
       "      <td>NaN</td>\n",
       "      <td>NaN</td>\n",
       "      <td>권영주,김학준,김찬희,문혜진,손동주,강호영</td>\n",
       "      <td>인문한국플러스,해역,HK+)사업단,해산,부산,해운대</td>\n",
       "      <td>진로,KIOST,정책연구원,HK+사업단,국립부경대학교,부흥중,부경대,부흥중학교,부산대</td>\n",
       "      <td>부경대,중학교,강연,청소년,해역,인문학,개최,24일,27일,부흥중,국립,부경대학교,...</td>\n",
       "      <td>인문학,부경대,부흥중,부산,문혜진,해양과학,권영주,부산대,hk,학생들,강호영,사업단...</td>\n",
       "      <td>국립부경대학교 인문한국플러스(HK+)사업단(단장 손동주)은 24일과 27일 양일간 ...</td>\n",
       "      <td>https://www.busan.com/view/busan/view.php?code...</td>\n",
       "      <td>NaN</td>\n",
       "    </tr>\n",
       "  </tbody>\n",
       "</table>\n",
       "</div>"
      ],
      "text/plain": [
       "         뉴스 식별자        일자     언론사             기고자  \\\n",
       "0  1.601001e+06  20221031  전북도민일보          남형진 기자   \n",
       "1  7.100501e+06  20221031    전자신문             정다은   \n",
       "2  2.100311e+06  20221031    서울경제  유주희 기자,팀지구용 기자   \n",
       "3  2.100801e+06  20221028   아시아경제      영남취재본부 황두열   \n",
       "4  1.500701e+06  20221028    부산일보             김예빈   \n",
       "\n",
       "                                 제목    통합 분류1          통합 분류2          통합 분류3  \\\n",
       "0   한국탄소산업진흥원, 탄소소부장 기업 기술 애로 지원 박차  IT_과학>과학           지역>대전           지역>충남   \n",
       "1  [ET단상]자원순환, 포장재 '탈(脫) 플라스틱'에 달렸다     사회>환경           경제>유통           경제>자원   \n",
       "2            해변의 불꽃놀이, '불법'입니다[지구용]       미분류             NaN             NaN   \n",
       "3     부경대, 중학교 찾아 ‘청소년 해역인문학 강연’ 개최     지역>부산           지역>대전   IT_과학>IT_과학일반   \n",
       "4     부경대, 중학교 찾아 ‘청소년 해역인문학 강연’ 개최     지역>부산   IT_과학>IT_과학일반           지역>대전   \n",
       "\n",
       "    사건/사고 분류1 사건/사고 분류2 사건/사고 분류3                       인물  \\\n",
       "0         NaN       NaN       NaN                      방윤혁   \n",
       "1         NaN       NaN       NaN                      김지선   \n",
       "2  사회>사회갈등>시위       NaN       NaN                      NaN   \n",
       "3         NaN       NaN       NaN      권영주,김학준,김찬희,문혜진,강호영   \n",
       "4         NaN       NaN       NaN  권영주,김학준,김찬희,문혜진,손동주,강호영   \n",
       "\n",
       "                             위치  \\\n",
       "0              신성,한국탄소산업진흥원,진흥원   \n",
       "1                         한국,설령   \n",
       "2              지구,인천,저도,인천시,을왕리   \n",
       "3       인문한국플러스,해역,해산,부산,해운대,영남   \n",
       "4  인문한국플러스,해역,HK+)사업단,해산,부산,해운대   \n",
       "\n",
       "                                                  기관  \\\n",
       "0           소부장 융합혁신지원단,소부장혁신지원,대성중공업,우주항공,카텍에이치,진흥원   \n",
       "1                환경부,FSC(산림관리협의회,자원,플라스틱,산업통상자원부,PCR   \n",
       "2            시셰퍼드,CU,이마트24,의원실,해양수산부,세븐일레븐,GS25,국민의힘   \n",
       "3  진로,KIOST,HK,HK+)사업단,정책연구원,HK+사업단,국립부경대학교,부흥중,부...   \n",
       "4    진로,KIOST,정책연구원,HK+사업단,국립부경대학교,부흥중,부경대,부흥중학교,부산대   \n",
       "\n",
       "                                                 키워드  \\\n",
       "0  한국탄소산업진흥원,탄소소부장,기업,애로,지원,박차,한국탄소산업진흥원,원장,방윤혁,소...   \n",
       "1  자원순환,포장재,플라스틱,플라스틱,인류,발명,최고,선물,최악,산물,유용성,편리,장점...   \n",
       "2  해변,불꽃놀이,불법,지구용,해수욕장법,폭죽,판매,합법,단속,인력,어둠,해변,파도,소...   \n",
       "3  부경대,중학교,강연,청소년,해역,인문학,개최,국립,부경대학교,인문,한국플러스,HK,...   \n",
       "4  부경대,중학교,강연,청소년,해역,인문학,개최,24일,27일,부흥중,국립,부경대학교,...   \n",
       "\n",
       "                                   특성추출(가중치순 상위 50개)  \\\n",
       "0  진흥원,전문가,탄소소부장,소부장,한국탄소산업진흥원,자동차,수거장치,기술애,소부장혁신...   \n",
       "1  친환경,생활공작소,생활용품업계,재활용,포장재,배출량,폐기물,코로나19,순환경제,탄소...   \n",
       "2  폭죽놀이,시셰퍼드,활동가,바닷가,불꽃놀이,지구용,활동가님,편의점,정철,폭죽놀,현수막...   \n",
       "3  부경대,인문학,해양과학,부산,권영주,학생들,문혜진,hk,부산대,강호영,부흥중학교,김...   \n",
       "4  인문학,부경대,부흥중,부산,문혜진,해양과학,권영주,부산대,hk,학생들,강호영,사업단...   \n",
       "\n",
       "                                                  본문  \\\n",
       "0  한국탄소산업진흥원(원장 방윤혁)이 국내 탄소 소재ㆍ부품ㆍ장비 기업의 현장 기술애로 ...   \n",
       "1  플라스틱은 인류가 발명한 '최고의 선물이자 최악의 산물'이다. 가볍고 견고하다는 유...   \n",
       "2  어둠이 내려앉은 해변의 파도 소리, 손에는 맥주 한 캔, 속마음을 실어나르는 대화,...   \n",
       "3  [아시아경제 영남취재본부 황두열 기자] 국립부경대학교 인문한국플러스(HK+)사업단이...   \n",
       "4  국립부경대학교 인문한국플러스(HK+)사업단(단장 손동주)은 24일과 27일 양일간 ...   \n",
       "\n",
       "                                                 URL 분석제외 여부  \n",
       "0  http://www.domin.co.kr/news/articleView.html?i...     NaN  \n",
       "1               http://www.etnews.com/20221031000039     NaN  \n",
       "2         http://www.sedaily.com/NewsView/26CKC2064U     NaN  \n",
       "3  https://view.asiae.co.kr/article/2022102817342...     NaN  \n",
       "4  https://www.busan.com/view/busan/view.php?code...     NaN  "
      ]
     },
     "execution_count": 2,
     "metadata": {},
     "output_type": "execute_result"
    }
   ],
   "source": [
    "df = pd.read_csv('Dataset_preprocessed.csv')\n",
    "df.head()"
   ]
  },
  {
   "cell_type": "code",
   "execution_count": 10,
   "id": "79756948",
   "metadata": {},
   "outputs": [],
   "source": []
  },
  {
   "cell_type": "code",
   "execution_count": 11,
   "id": "15f41d43",
   "metadata": {},
   "outputs": [],
   "source": [
    "df['연도']=0\n",
    "for i in range(len(df)):\n",
    "    df['연도'][i] = str(df['일자'][i])[:4]"
   ]
  },
  {
   "cell_type": "code",
   "execution_count": 15,
   "id": "24df5630",
   "metadata": {},
   "outputs": [],
   "source": [
    "a = df.groupby(['연도'])[['인물']].count()\n",
    "a.columns = ['기사건수']\n",
    "a.reset_index(inplace=True, drop=False)\n",
    "\n",
    "a.loc[10] = [\"2012\",0]\n",
    "a.loc[11] = [\"2013\", 0]"
   ]
  },
  {
   "cell_type": "code",
   "execution_count": 22,
   "id": "54709589",
   "metadata": {},
   "outputs": [],
   "source": [
    "a.sort_values(by='연도', inplace=True)\n",
    "a.reset_index(inplace=True, drop=True)"
   ]
  },
  {
   "cell_type": "code",
   "execution_count": 55,
   "id": "4e9e1258",
   "metadata": {},
   "outputs": [],
   "source": [
    "a = a[3:]\n",
    "a.reset_index(inplace=True, drop=True)"
   ]
  },
  {
   "cell_type": "code",
   "execution_count": 56,
   "id": "cbcb7ae8",
   "metadata": {},
   "outputs": [
    {
     "data": {
      "text/html": [
       "<div>\n",
       "<style scoped>\n",
       "    .dataframe tbody tr th:only-of-type {\n",
       "        vertical-align: middle;\n",
       "    }\n",
       "\n",
       "    .dataframe tbody tr th {\n",
       "        vertical-align: top;\n",
       "    }\n",
       "\n",
       "    .dataframe thead th {\n",
       "        text-align: right;\n",
       "    }\n",
       "</style>\n",
       "<table border=\"1\" class=\"dataframe\">\n",
       "  <thead>\n",
       "    <tr style=\"text-align: right;\">\n",
       "      <th></th>\n",
       "      <th>연도</th>\n",
       "      <th>기사건수</th>\n",
       "    </tr>\n",
       "  </thead>\n",
       "  <tbody>\n",
       "    <tr>\n",
       "      <th>0</th>\n",
       "      <td>2014</td>\n",
       "      <td>2</td>\n",
       "    </tr>\n",
       "    <tr>\n",
       "      <th>1</th>\n",
       "      <td>2015</td>\n",
       "      <td>7</td>\n",
       "    </tr>\n",
       "    <tr>\n",
       "      <th>2</th>\n",
       "      <td>2016</td>\n",
       "      <td>17</td>\n",
       "    </tr>\n",
       "    <tr>\n",
       "      <th>3</th>\n",
       "      <td>2017</td>\n",
       "      <td>33</td>\n",
       "    </tr>\n",
       "    <tr>\n",
       "      <th>4</th>\n",
       "      <td>2018</td>\n",
       "      <td>173</td>\n",
       "    </tr>\n",
       "    <tr>\n",
       "      <th>5</th>\n",
       "      <td>2019</td>\n",
       "      <td>302</td>\n",
       "    </tr>\n",
       "    <tr>\n",
       "      <th>6</th>\n",
       "      <td>2020</td>\n",
       "      <td>241</td>\n",
       "    </tr>\n",
       "    <tr>\n",
       "      <th>7</th>\n",
       "      <td>2021</td>\n",
       "      <td>401</td>\n",
       "    </tr>\n",
       "    <tr>\n",
       "      <th>8</th>\n",
       "      <td>2022</td>\n",
       "      <td>318</td>\n",
       "    </tr>\n",
       "  </tbody>\n",
       "</table>\n",
       "</div>"
      ],
      "text/plain": [
       "     연도  기사건수\n",
       "0  2014     2\n",
       "1  2015     7\n",
       "2  2016    17\n",
       "3  2017    33\n",
       "4  2018   173\n",
       "5  2019   302\n",
       "6  2020   241\n",
       "7  2021   401\n",
       "8  2022   318"
      ]
     },
     "execution_count": 56,
     "metadata": {},
     "output_type": "execute_result"
    }
   ],
   "source": [
    "a"
   ]
  },
  {
   "cell_type": "code",
   "execution_count": 95,
   "id": "6d715309",
   "metadata": {},
   "outputs": [
    {
     "data": {
      "image/png": "[encoded data removed]",
      "text/plain": [
       "<Figure size 1000x600 with 1 Axes>"
      ]
     },
     "metadata": {},
     "output_type": "display_data"
    }
   ],
   "source": [
    "cmap = plt.get_cmap('Blues') ## 그라데이션 색상\n",
    "def gradientbars(bars,cmap):\n",
    "    grad = np.expand_dims(np.linspace(0,1,256),0).T ## 그라데이션을 적용할 컬러 값\n",
    "    ax = bars[0].axes ## 막대기가 그려진 axes를 가져온다. 이 axes위에 그라데이션을 그린다.\n",
    "    lim = ax.get_xlim()+ax.get_ylim() ## 처음 바 차트가 그려진 x좌표와 y좌표를 저장\n",
    "    for bar in bars:\n",
    "        bar.set_facecolor(\"none\") #?# 막대기의 색상을 비워준다.\n",
    "        x,y = bar.get_xy() ## 막대기의 좌측 하단 x, y좌표\n",
    "        w, h = bar.get_width(), bar.get_height() ## 막대기의 폭과 높이\n",
    "        ax.imshow(grad, extent=[x,x+w,y+h,y], cmap = cmap, aspect=\"auto\",\\\n",
    "                   vmin=-0.5, vmax=2) ## 막대기안에 그라데이션을 그려준다.\n",
    "        \n",
    "    ax.axis(lim) ## 처음에 그린 바차트의 x좌표 한계값과 y좌표 한계값을 적용한다.\n",
    " \n",
    "\n",
    "bars = plt.bar(a['연도'], a['기사건수'])\n",
    "gradientbars(bars,cmap)\n",
    "plt.show() \n"
   ]
  },
  {
   "cell_type": "code",
   "execution_count": 117,
   "id": "129db31b",
   "metadata": {},
   "outputs": [
    {
     "data": {
      "text/plain": [
       "(-0.8400000000000001, 8.84, 0.0, 421.05)"
      ]
     },
     "execution_count": 117,
     "metadata": {},
     "output_type": "execute_result"
    },
    {
     "data": {
      "image/png": "[encoded data removed]",
      "text/plain": [
       "<Figure size 800x600 with 1 Axes>"
      ]
     },
     "metadata": {},
     "output_type": "display_data"
    }
   ],
   "source": [
    "fig = plt.figure(figsize=(8,6))\n",
    "bars = plt.bar(a['연도'], a['기사건수'])\n",
    "cmap = plt.get_cmap('twilight_shifted')\n",
    "grad = np.expand_dims(np.linspace(0,1,256),0).T ## 그라데이션을 적용할 컬러 값\n",
    "ax = bars[0].axes ## 막대기가 그려진 axes를 가져온다. 이 axes위에 그라데이션을 그린다.\n",
    "lim = ax.get_xlim()+ax.get_ylim()\n",
    "plt.xticks(size=14)\n",
    "plt.xlabel('Year', size=20)\n",
    "plt.ylabel('N', size=20, rotation=0, loc='top')\n",
    "for i, num in enumerate(a['기사건수']):\n",
    "    plt.text(i-0.18, num+5, a['기사건수'][i], size=10)\n",
    "for bar in bars:\n",
    "        bar.set_facecolor(\"none\") #?# 막대기의 색상을 비워준다.\n",
    "        x,y = bar.get_xy() ## 막대기의 좌측 하단 x, y좌표\n",
    "        w, h = bar.get_width(), bar.get_height() ## 막대기의 폭과 높이\n",
    "        ax.imshow(grad, extent=[x,x+w,y+h,y], cmap = cmap, aspect=\"auto\",\\\n",
    "                   vmin=-0.5, vmax=2) ## 막대기안에 그라데이션을 그려준다.\n",
    "ax.axis(lim)"
   ]
  },
  {
   "cell_type": "code",
   "execution_count": 98,
   "id": "0b5cb2a1",
   "metadata": {},
   "outputs": [
    {
     "data": {
      "text/plain": [
       "(-0.8400000000000001, 8.84, 0.0, 421.05)"
      ]
     },
     "execution_count": 98,
     "metadata": {},
     "output_type": "execute_result"
    }
   ],
   "source": [
    "lim"
   ]
  },
  {
   "cell_type": "code",
   "execution_count": null,
   "id": "114e5906",
   "metadata": {},
   "outputs": [],
   "source": [
    "for bar in bars:\n",
    "        bar.set_facecolor(\"none\") #?# 막대기의 색상을 비워준다.\n",
    "        x,y = bar.get_xy() ## 막대기의 좌측 하단 x, y좌표\n",
    "        w, h = bar.get_width(), bar.get_height() ## 막대기의 폭과 높이\n",
    "        ax.imshow(grad, extent=[x,x+w,y+h,y], cmap = cmap, aspect=\"auto\",\\\n",
    "                   vmin=-0.5, vmax=2)"
   ]
  },
  {
   "cell_type": "code",
   "execution_count": null,
   "id": "0f004b6d",
   "metadata": {},
   "outputs": [],
   "source": []
  },
  {
   "cell_type": "code",
   "execution_count": 96,
   "id": "b687615c",
   "metadata": {},
   "outputs": [
    {
     "data": {
      "image/png": "[encoded data removed]",
      "text/plain": [
       "<Figure size 800x600 with 1 Axes>"
      ]
     },
     "metadata": {},
     "output_type": "display_data"
    }
   ],
   "source": [
    "fig = plt.figure(figsize=(8,6))\n",
    "y = [0,50,100,150,200,250,300,350,400]\n",
    "plt.bar(a['연도'], a['기사건수'])\n",
    "plt.xticks(size=14)\n",
    "plt.yticks(y, size=14)\n",
    "plt.xlabel('Year', size=20)\n",
    "plt.ylabel('N', size=20, rotation=0, loc='top')\n",
    "for i, num in enumerate(a['기사건수']):\n",
    "    plt.text(i-0.18, num+5, a['기사건수'][i], size=10)\n",
    "plt.show()"
   ]
  },
  {
   "cell_type": "code",
   "execution_count": null,
   "id": "d3dce698",
   "metadata": {},
   "outputs": [],
   "source": []
  }
 ],
 "metadata": {
  "kernelspec": {
   "display_name": "Python 3 (ipykernel)",
   "language": "python",
   "name": "python3"
  },
  "language_info": {
   "codemirror_mode": {
    "name": "ipython",
    "version": 3
   },
   "file_extension": ".py",
   "mimetype": "text/x-python",
   "name": "python",
   "nbconvert_exporter": "python",
   "pygments_lexer": "ipython3",
   "version": "3.8.5"
  }
 },
 "nbformat": 4,
 "nbformat_minor": 5
}
